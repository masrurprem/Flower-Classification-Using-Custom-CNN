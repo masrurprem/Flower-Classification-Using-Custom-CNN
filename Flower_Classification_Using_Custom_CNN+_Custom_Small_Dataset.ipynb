{
  "nbformat": 4,
  "nbformat_minor": 0,
  "metadata": {
    "colab": {
      "provenance": [],
      "gpuType": "T4"
    },
    "kernelspec": {
      "name": "python3",
      "display_name": "Python 3"
    },
    "language_info": {
      "name": "python"
    },
    "accelerator": "GPU"
  },
  "cells": [
    {
      "cell_type": "markdown",
      "source": [],
      "metadata": {
        "id": "Fnwpl3q3FeiB"
      }
    },
    {
      "cell_type": "code",
      "execution_count": 7,
      "metadata": {
        "id": "ioanlTIbFbfJ"
      },
      "outputs": [],
      "source": [
        "import tensorflow as tf\n",
        "import numpy as np"
      ]
    },
    {
      "cell_type": "markdown",
      "source": [],
      "metadata": {
        "id": "iKi2rGCkFfZD"
      }
    },
    {
      "cell_type": "code",
      "source": [
        "base_dir= \"/content/drive/MyDrive/dataset/flower\""
      ],
      "metadata": {
        "id": "3CnGw6yOFfdk"
      },
      "execution_count": 8,
      "outputs": []
    },
    {
      "cell_type": "markdown",
      "source": [],
      "metadata": {
        "id": "t6ICJ4cCFfjC"
      }
    },
    {
      "cell_type": "code",
      "source": [
        "IMG_SIZE= 224\n",
        "BATCH_SIZE= 20"
      ],
      "metadata": {
        "id": "IZoEDQi6Ffny"
      },
      "execution_count": 9,
      "outputs": []
    },
    {
      "cell_type": "markdown",
      "source": [
        "# Preprocessing + Augmentation\n"
      ],
      "metadata": {
        "id": "io4ID1XpFftF"
      }
    },
    {
      "cell_type": "code",
      "source": [
        "train_datagen= tf.keras.preprocessing.image.ImageDataGenerator(\n",
        "    rescale=1./255,\n",
        "    shear_range=.2,\n",
        "    zoom_range=.2,\n",
        "    horizontal_flip= True,\n",
        "    validation_split=.2\n",
        ")\n",
        "\n",
        "test_datagen= tf.keras.preprocessing.image.ImageDataGenerator(\n",
        "    rescale=1./255,\n",
        "    validation_split=.2\n",
        ")\n",
        "\n",
        "\n",
        "train_datagen = train_datagen.flow_from_directory(base_dir, target_size= (IMG_SIZE,IMG_SIZE), batch_size= BATCH_SIZE, subset= 'training')\n",
        "test_datagen = test_datagen.flow_from_directory(base_dir, target_size= (IMG_SIZE,IMG_SIZE), batch_size= BATCH_SIZE, subset= 'validation')\n",
        "\n",
        "\n"
      ],
      "metadata": {
        "colab": {
          "base_uri": "https://localhost:8080/"
        },
        "id": "sceJ7Zr3Ffyp",
        "outputId": "c4daead2-45b3-44c7-a306-255b9f13c881"
      },
      "execution_count": 10,
      "outputs": [
        {
          "output_type": "stream",
          "name": "stdout",
          "text": [
            "Found 80 images belonging to 5 classes.\n",
            "Found 20 images belonging to 5 classes.\n"
          ]
        }
      ]
    },
    {
      "cell_type": "markdown",
      "source": [],
      "metadata": {
        "id": "ea16zESSFf20"
      }
    },
    {
      "cell_type": "code",
      "source": [
        "from tensorflow.keras.models import Sequential\n",
        "from tensorflow.keras.layers import Conv2D, MaxPooling2D, Flatten, Dense, Dropout"
      ],
      "metadata": {
        "id": "_Kg25aTVFf7t"
      },
      "execution_count": 11,
      "outputs": []
    },
    {
      "cell_type": "markdown",
      "source": [
        "# Define the CNN model"
      ],
      "metadata": {
        "id": "g1b5g4TsL8w3"
      }
    },
    {
      "cell_type": "code",
      "source": [
        "CNN= Sequential()\n",
        "CNN.add(Conv2D(32, kernel_size=(3,3), activation='relu', input_shape=(224,224,3)))\n",
        "CNN.add(MaxPooling2D(pool_size=(2,2)))\n",
        "\n",
        "CNN.add(Conv2D(64, kernel_size=(3,3), activation='relu'))\n",
        "CNN.add(MaxPooling2D(pool_size=(2,2)))\n",
        "\n",
        "CNN.add(Conv2D(128, kernel_size=(3,3), activation='relu'))\n",
        "CNN.add(MaxPooling2D(pool_size=(2,2)))\n",
        "\n",
        "CNN.add(Conv2D(256, kernel_size=(3,3), activation='relu'))\n",
        "CNN.add(MaxPooling2D(pool_size=(2,2)))\n",
        "\n",
        "CNN.add(Conv2D(512, kernel_size=(3,3), activation='relu'))\n",
        "CNN.add(MaxPooling2D(pool_size=(2,2)))\n",
        "\n",
        "CNN.add(Flatten())\n",
        "\n",
        "CNN.add(Dense(256, activation='relu'))\n",
        "CNN.add(Dense(128,activation='relu'))\n",
        "CNN.add(Dense(64, activation='relu'))\n",
        "\n",
        "CNN.add(Dense(5,activation='softmax'))\n",
        "\n",
        "\n",
        "\n"
      ],
      "metadata": {
        "id": "jbycpB8uFgFi"
      },
      "execution_count": 13,
      "outputs": []
    },
    {
      "cell_type": "code",
      "source": [
        "CNN.summary()"
      ],
      "metadata": {
        "colab": {
          "base_uri": "https://localhost:8080/"
        },
        "id": "Dw_96FszFgIX",
        "outputId": "4e50c6ed-7ab6-4a16-ff3d-e0cdddde14df"
      },
      "execution_count": 14,
      "outputs": [
        {
          "output_type": "stream",
          "name": "stdout",
          "text": [
            "Model: \"sequential_1\"\n",
            "_________________________________________________________________\n",
            " Layer (type)                Output Shape              Param #   \n",
            "=================================================================\n",
            " conv2d (Conv2D)             (None, 222, 222, 32)      896       \n",
            "                                                                 \n",
            " max_pooling2d (MaxPooling2  (None, 111, 111, 32)      0         \n",
            " D)                                                              \n",
            "                                                                 \n",
            " conv2d_1 (Conv2D)           (None, 109, 109, 64)      18496     \n",
            "                                                                 \n",
            " max_pooling2d_1 (MaxPoolin  (None, 54, 54, 64)        0         \n",
            " g2D)                                                            \n",
            "                                                                 \n",
            " conv2d_2 (Conv2D)           (None, 52, 52, 128)       73856     \n",
            "                                                                 \n",
            " max_pooling2d_2 (MaxPoolin  (None, 26, 26, 128)       0         \n",
            " g2D)                                                            \n",
            "                                                                 \n",
            " conv2d_3 (Conv2D)           (None, 24, 24, 256)       295168    \n",
            "                                                                 \n",
            " max_pooling2d_3 (MaxPoolin  (None, 12, 12, 256)       0         \n",
            " g2D)                                                            \n",
            "                                                                 \n",
            " conv2d_4 (Conv2D)           (None, 10, 10, 512)       1180160   \n",
            "                                                                 \n",
            " max_pooling2d_4 (MaxPoolin  (None, 5, 5, 512)         0         \n",
            " g2D)                                                            \n",
            "                                                                 \n",
            " flatten (Flatten)           (None, 12800)             0         \n",
            "                                                                 \n",
            " dense (Dense)               (None, 256)               3277056   \n",
            "                                                                 \n",
            " dense_1 (Dense)             (None, 128)               32896     \n",
            "                                                                 \n",
            " dense_2 (Dense)             (None, 64)                8256      \n",
            "                                                                 \n",
            " dense_3 (Dense)             (None, 5)                 325       \n",
            "                                                                 \n",
            "=================================================================\n",
            "Total params: 4887109 (18.64 MB)\n",
            "Trainable params: 4887109 (18.64 MB)\n",
            "Non-trainable params: 0 (0.00 Byte)\n",
            "_________________________________________________________________\n"
          ]
        }
      ]
    },
    {
      "cell_type": "markdown",
      "source": [
        "# Compile the model"
      ],
      "metadata": {
        "id": "-HYj80YDFgNf"
      }
    },
    {
      "cell_type": "code",
      "source": [
        "CNN.compile(optimizer='Adam', loss='categorical_crossentropy', metrics='accuracy')"
      ],
      "metadata": {
        "id": "s9KNGr2CFgQ1"
      },
      "execution_count": 15,
      "outputs": []
    },
    {
      "cell_type": "markdown",
      "source": [],
      "metadata": {
        "id": "zdGxOOI4FgWk"
      }
    },
    {
      "cell_type": "code",
      "source": [
        "CNN.fit(train_datagen, validation_data=test_datagen, epochs=30)"
      ],
      "metadata": {
        "colab": {
          "base_uri": "https://localhost:8080/"
        },
        "id": "wuEVDUSLFgbS",
        "outputId": "532bf633-5877-442a-b56f-726f7c1e8f32"
      },
      "execution_count": 18,
      "outputs": [
        {
          "output_type": "stream",
          "name": "stdout",
          "text": [
            "Epoch 1/30\n",
            "4/4 [==============================] - 2s 427ms/step - loss: 0.8827 - accuracy: 0.6500 - val_loss: 1.0593 - val_accuracy: 0.5000\n",
            "Epoch 2/30\n",
            "4/4 [==============================] - 1s 371ms/step - loss: 0.8265 - accuracy: 0.7000 - val_loss: 1.1354 - val_accuracy: 0.5000\n",
            "Epoch 3/30\n",
            "4/4 [==============================] - 1s 363ms/step - loss: 0.8219 - accuracy: 0.6375 - val_loss: 0.9873 - val_accuracy: 0.5500\n",
            "Epoch 4/30\n",
            "4/4 [==============================] - 1s 361ms/step - loss: 0.8897 - accuracy: 0.6250 - val_loss: 1.6542 - val_accuracy: 0.4000\n",
            "Epoch 5/30\n",
            "4/4 [==============================] - 1s 362ms/step - loss: 0.9003 - accuracy: 0.6750 - val_loss: 1.1541 - val_accuracy: 0.4500\n",
            "Epoch 6/30\n",
            "4/4 [==============================] - 2s 566ms/step - loss: 0.8154 - accuracy: 0.7125 - val_loss: 1.4740 - val_accuracy: 0.4000\n",
            "Epoch 7/30\n",
            "4/4 [==============================] - 2s 490ms/step - loss: 0.7184 - accuracy: 0.7625 - val_loss: 1.1636 - val_accuracy: 0.3000\n",
            "Epoch 8/30\n",
            "4/4 [==============================] - 1s 360ms/step - loss: 0.7604 - accuracy: 0.6375 - val_loss: 1.4677 - val_accuracy: 0.5000\n",
            "Epoch 9/30\n",
            "4/4 [==============================] - 1s 357ms/step - loss: 0.6763 - accuracy: 0.7125 - val_loss: 1.1177 - val_accuracy: 0.4500\n",
            "Epoch 10/30\n",
            "4/4 [==============================] - 1s 353ms/step - loss: 0.6273 - accuracy: 0.7750 - val_loss: 1.4289 - val_accuracy: 0.4000\n",
            "Epoch 11/30\n",
            "4/4 [==============================] - 1s 353ms/step - loss: 0.6470 - accuracy: 0.7375 - val_loss: 1.1830 - val_accuracy: 0.5500\n",
            "Epoch 12/30\n",
            "4/4 [==============================] - 1s 351ms/step - loss: 0.5615 - accuracy: 0.7875 - val_loss: 1.2975 - val_accuracy: 0.4500\n",
            "Epoch 13/30\n",
            "4/4 [==============================] - 2s 521ms/step - loss: 0.4802 - accuracy: 0.8375 - val_loss: 1.2304 - val_accuracy: 0.4500\n",
            "Epoch 14/30\n",
            "4/4 [==============================] - 2s 493ms/step - loss: 0.4895 - accuracy: 0.8125 - val_loss: 1.3574 - val_accuracy: 0.3500\n",
            "Epoch 15/30\n",
            "4/4 [==============================] - 1s 352ms/step - loss: 0.4516 - accuracy: 0.8375 - val_loss: 1.3749 - val_accuracy: 0.4000\n",
            "Epoch 16/30\n",
            "4/4 [==============================] - 1s 356ms/step - loss: 0.4449 - accuracy: 0.8125 - val_loss: 1.0937 - val_accuracy: 0.5000\n",
            "Epoch 17/30\n",
            "4/4 [==============================] - 1s 373ms/step - loss: 0.5500 - accuracy: 0.8500 - val_loss: 2.5564 - val_accuracy: 0.3500\n",
            "Epoch 18/30\n",
            "4/4 [==============================] - 1s 374ms/step - loss: 0.4281 - accuracy: 0.7750 - val_loss: 1.2300 - val_accuracy: 0.5500\n",
            "Epoch 19/30\n",
            "4/4 [==============================] - 1s 366ms/step - loss: 0.3963 - accuracy: 0.8375 - val_loss: 1.4694 - val_accuracy: 0.3500\n",
            "Epoch 20/30\n",
            "4/4 [==============================] - 2s 581ms/step - loss: 0.3785 - accuracy: 0.8250 - val_loss: 1.4113 - val_accuracy: 0.6000\n",
            "Epoch 21/30\n",
            "4/4 [==============================] - 2s 522ms/step - loss: 0.3318 - accuracy: 0.8500 - val_loss: 1.4135 - val_accuracy: 0.5000\n",
            "Epoch 22/30\n",
            "4/4 [==============================] - 1s 369ms/step - loss: 0.2886 - accuracy: 0.8625 - val_loss: 1.5267 - val_accuracy: 0.4500\n",
            "Epoch 23/30\n",
            "4/4 [==============================] - 1s 373ms/step - loss: 0.1866 - accuracy: 0.9625 - val_loss: 2.6641 - val_accuracy: 0.4500\n",
            "Epoch 24/30\n",
            "4/4 [==============================] - 1s 360ms/step - loss: 0.3643 - accuracy: 0.8250 - val_loss: 1.4353 - val_accuracy: 0.4500\n",
            "Epoch 25/30\n",
            "4/4 [==============================] - 1s 359ms/step - loss: 0.2787 - accuracy: 0.9000 - val_loss: 1.6521 - val_accuracy: 0.3500\n",
            "Epoch 26/30\n",
            "4/4 [==============================] - 1s 365ms/step - loss: 0.3621 - accuracy: 0.8500 - val_loss: 1.2181 - val_accuracy: 0.5500\n",
            "Epoch 27/30\n",
            "4/4 [==============================] - 2s 599ms/step - loss: 0.2290 - accuracy: 0.9000 - val_loss: 1.7235 - val_accuracy: 0.4500\n",
            "Epoch 28/30\n",
            "4/4 [==============================] - 2s 526ms/step - loss: 0.3552 - accuracy: 0.8625 - val_loss: 1.4110 - val_accuracy: 0.6000\n",
            "Epoch 29/30\n",
            "4/4 [==============================] - 1s 365ms/step - loss: 0.4699 - accuracy: 0.8250 - val_loss: 2.5373 - val_accuracy: 0.4000\n",
            "Epoch 30/30\n",
            "4/4 [==============================] - 1s 361ms/step - loss: 0.3615 - accuracy: 0.8750 - val_loss: 1.4591 - val_accuracy: 0.5000\n"
          ]
        },
        {
          "output_type": "execute_result",
          "data": {
            "text/plain": [
              "<keras.src.callbacks.History at 0x7cd4241d7d60>"
            ]
          },
          "metadata": {},
          "execution_count": 18
        }
      ]
    },
    {
      "cell_type": "code",
      "source": [],
      "metadata": {
        "id": "yq_bOiG7Fge9"
      },
      "execution_count": null,
      "outputs": []
    },
    {
      "cell_type": "markdown",
      "source": [],
      "metadata": {
        "id": "-eBNCJDNFgjK"
      }
    },
    {
      "cell_type": "code",
      "source": [],
      "metadata": {
        "id": "mAZOl7O2Fgm_"
      },
      "execution_count": null,
      "outputs": []
    }
  ]
}